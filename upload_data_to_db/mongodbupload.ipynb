{
 "cells": [
  {
   "cell_type": "code",
   "execution_count": null,
   "metadata": {},
   "outputs": [],
   "source": [
    "import os\n",
    "from database_connect.databases.mongodb import MongoIO as mongo"
   ]
  },
  {
   "cell_type": "code",
   "execution_count": null,
   "metadata": {},
   "outputs": [],
   "source": [
    "client_url =\"\"\n",
    "database_name = \"phising\""
   ]
  },
  {
   "cell_type": "code",
   "execution_count": null,
   "metadata": {},
   "outputs": [],
   "source": [
    "def upload_files_to_mongodb(mongo_client_con_string, database_name, datasets_dir_name):\n",
    "\n",
    "    for file in os.listdir(datasets_dir_name):\n",
    "        if file.endswith('.csv'):\n",
    "            file_name = file.split('.')[0]\n",
    "\n",
    "            mongo_connection = mongo(\n",
    "                client_url = mongo_client_con_string,\n",
    "                database_name = database_name,\n",
    "                collection_name = file_name\n",
    "            )\n",
    "\n",
    "            file_path = os.path.join(datasets_dir_name, file)\n",
    "            print(file_path)\n",
    "            mongo_connection.bulk_insert(file_path)\n",
    "            print(f\"{file_name} is uploaded to mongodb\")"
   ]
  },
  {
   "cell_type": "code",
   "execution_count": null,
   "metadata": {},
   "outputs": [],
   "source": [
    "upload_files_to_mongodb(\n",
    "    mongo_client_con_string= client_url,\n",
    "    database_name = database_name,\n",
    "    datasets_dir_name= r\"C:\\Users\\subha\\Desktop\\phishing-classifier\\upload_data_to_db\\phising_08012020_120000.csv\")"
   ]
  }
 ],
 "metadata": {
  "language_info": {
   "name": "python"
  }
 },
 "nbformat": 4,
 "nbformat_minor": 2
}
